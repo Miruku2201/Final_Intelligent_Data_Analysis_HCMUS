{
 "cells": [
  {
   "cell_type": "code",
   "execution_count": 102,
   "metadata": {},
   "outputs": [],
   "source": [
    "import json\n",
    "import datetime as dt\n",
    "\n",
    "import sys\n",
    "sys.path.append(\"../SupportMethod\")\n",
    "from Jsonfile import update, create"
   ]
  },
  {
   "cell_type": "code",
   "execution_count": 103,
   "metadata": {},
   "outputs": [],
   "source": [
    "with open('../Database/GrabPrice/GrabPrice.json') as f:\n",
    "    grab = json.load(f)"
   ]
  },
  {
   "cell_type": "code",
   "execution_count": 104,
   "metadata": {},
   "outputs": [],
   "source": [
    "with open('../Database/Weather/Weather.json') as f:\n",
    "    weather = json.load(f)"
   ]
  },
  {
   "cell_type": "code",
   "execution_count": 105,
   "metadata": {},
   "outputs": [],
   "source": [
    "grab = grab[\"grabPrice\"]\n",
    "weather = weather[\"weathers\"]"
   ]
  },
  {
   "cell_type": "code",
   "execution_count": 106,
   "metadata": {},
   "outputs": [],
   "source": [
    "w0 = weather[4]\n",
    "grab0 = grab[5]"
   ]
  },
  {
   "cell_type": "code",
   "execution_count": 107,
   "metadata": {},
   "outputs": [
    {
     "data": {
      "text/plain": [
       "{'LocalObservationDateTime': '2023-11-05T11:22:00+07:00',\n",
       " 'EpochTime': 1699158120,\n",
       " 'WeatherText': 'Partly sunny',\n",
       " 'WeatherIcon': 3,\n",
       " 'HasPrecipitation': False,\n",
       " 'PrecipitationType': None,\n",
       " 'IsDayTime': True,\n",
       " 'Temperature': {'Metric': {'Value': 33.9, 'Unit': 'C', 'UnitType': 17},\n",
       "  'Imperial': {'Value': 93.0, 'Unit': 'F', 'UnitType': 18}},\n",
       " 'MobileLink': 'http://www.accuweather.com/en/vn/ho-chi-minh-city/353981/current-weather/353981?lang=en-us',\n",
       " 'Link': 'http://www.accuweather.com/en/vn/ho-chi-minh-city/353981/current-weather/353981?lang=en-us'}"
      ]
     },
     "execution_count": 107,
     "metadata": {},
     "output_type": "execute_result"
    }
   ],
   "source": [
    "w0"
   ]
  },
  {
   "cell_type": "code",
   "execution_count": 108,
   "metadata": {},
   "outputs": [
    {
     "data": {
      "text/plain": [
       "{'departureText': 'MyHome',\n",
       " 'departureAddress': 'A11/13A Quốc Lộ 50, X.Bình Hưng, H.Bình Chánh, Hồ Chí Minh, Vietnam',\n",
       " 'destinationText': 'HCMUS',\n",
       " 'destinationAddress': '227 Nguyễn Văn Cừ, Phường 4, Quận 5, TP HCM',\n",
       " 'byVehicle': [{'type': 'GrabBike Economy', 'price': '30.000'},\n",
       "  {'type': 'GrabCar', 'price': '88.000'},\n",
       "  {'type': 'GrabCar', 'price': '88.000'},\n",
       "  {'type': 'GrabBike', 'price': '33.000'},\n",
       "  {'type': 'GrabCar 7', 'price': '110.000'},\n",
       "  {'type': 'GrabCar Economy', 'price': '80.000'},\n",
       "  {'type': 'GrabBike Economy', 'price': '30.000'}]}"
      ]
     },
     "execution_count": 108,
     "metadata": {},
     "output_type": "execute_result"
    }
   ],
   "source": [
    "grab0"
   ]
  },
  {
   "cell_type": "code",
   "execution_count": 109,
   "metadata": {},
   "outputs": [],
   "source": [
    "for ve in grab0[\"byVehicle\"]:\n",
    "    rowData = {\n",
    "        \"Day\": dt.datetime.now().strftime(\"%A, %d/%m/%Y\"),\n",
    "        \"Time\": dt.datetime.now().strftime(\"%X\"),\n",
    "        \"Weather\": w0[\"WeatherText\"],\n",
    "        \"Metric\": w0[\"Temperature\"][\"Metric\"][\"Value\"],\n",
    "        \"Imperial\": w0[\"Temperature\"][\"Imperial\"][\"Value\"],\n",
    "        \"DepartureText\": grab0[\"departureText\"],\n",
    "        \"DepartureAddress\": grab0[\"departureAddress\"],\n",
    "        \"DestinationText\": grab0[\"destinationText\"],\n",
    "        \"DestinationText\": grab0[\"destinationAddress\"],        \n",
    "        \"Type\": ve[\"type\"],\n",
    "        \"Price\": ve[\"price\"]\n",
    "    }\n",
    "    print(rowData)\n"
   ]
  },
  {
   "cell_type": "code",
   "execution_count": null,
   "metadata": {},
   "outputs": [],
   "source": []
  }
 ],
 "metadata": {
  "kernelspec": {
   "display_name": "myenv",
   "language": "python",
   "name": "python3"
  },
  "language_info": {
   "codemirror_mode": {
    "name": "ipython",
    "version": 3
   },
   "file_extension": ".py",
   "mimetype": "text/x-python",
   "name": "python",
   "nbconvert_exporter": "python",
   "pygments_lexer": "ipython3",
   "version": "3.11.5"
  },
  "orig_nbformat": 4
 },
 "nbformat": 4,
 "nbformat_minor": 2
}
