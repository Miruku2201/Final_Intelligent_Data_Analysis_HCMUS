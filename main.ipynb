{
 "cells": [
  {
   "cell_type": "markdown",
   "metadata": {},
   "source": [
    "__RUN REPORT__"
   ]
  },
  {
   "cell_type": "code",
   "execution_count": 1,
   "metadata": {},
   "outputs": [
    {
     "name": "stderr",
     "output_type": "stream",
     "text": [
      "pdflatex: security risk: running with elevated privileges\n",
      "pdflatex: major issue: So far, you have not checked for MiKTeX updates.\n",
      "pdflatex: security risk: running with elevated privileges\n",
      "pdflatex: major issue: So far, you have not checked for MiKTeX updates.\n",
      "pandoc: report.pdf: withBinaryFile: permission denied (Permission denied)\n"
     ]
    }
   ],
   "source": [
    "!pandoc \"assets/markdown/report.md\" -o report.pdf --from markdown --template eisvogel"
   ]
  }
 ],
 "metadata": {
  "kernelspec": {
   "display_name": "myenv",
   "language": "python",
   "name": "python3"
  },
  "language_info": {
   "codemirror_mode": {
    "name": "ipython",
    "version": 3
   },
   "file_extension": ".py",
   "mimetype": "text/x-python",
   "name": "python",
   "nbconvert_exporter": "python",
   "pygments_lexer": "ipython3",
   "version": "3.11.5"
  },
  "orig_nbformat": 4
 },
 "nbformat": 4,
 "nbformat_minor": 2
}
